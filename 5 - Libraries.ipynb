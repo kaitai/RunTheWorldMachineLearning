{
 "cells": [
  {
   "cell_type": "markdown",
   "metadata": {},
   "source": [
    "<font color=gray>This Jupyter notebook was created by Melissa Lynn for \\the\\world Girls' Machine Learning Day Camp. The license can be found at the bottom of the notebook.</font>\n",
    "\n",
    "# Libraries\n",
    "\n",
    "Of course, we aren't the first people to define a function that computes the average value of a list of numbers. In fact, there are a lot of functions that are useful to us that other people have defined, so it would be nice if we can use their work instead of redefining all of these functions ourselves! Fortunately, this is possible. We've actually already used a function defined by other people when we wrote \"len(numbers)\" to find the number of values in the list. Here, we called a function called \"len,\" which was already defined by the mysterious python powers-that-be and is built into the language. There are more built in functions, but not all of the functions that we'd like to use are automatically included in python. In order to use these functions, we need to tell the computer where to find this functions.\n",
    "\n",
    "In the code below, we tell the computer that we would like to use a python package called \"numpy.\" Numpy is a collection of functions and other code which are useful for scientific computing. As before, we store the exam scores in a list. We then compute the average score using the \"average\" function in \"numpy.\" Writing \"numpy.average\" tells the computer to look inside of numpy to find the average function, rather than looking for a user defined function (like those we used before). Using this predefined function makes computing the average very easy!"
   ]
  },
  {
   "cell_type": "code",
   "execution_count": null,
   "metadata": {},
   "outputs": [],
   "source": [
    "import numpy\n",
    "\n",
    "scores = [85, 93, 88]\n",
    "average_score = numpy.average(scores)\n",
    "print(average_score)"
   ]
  },
  {
   "cell_type": "markdown",
   "metadata": {},
   "source": [
    "The numpy library contains a lot of useful functions, including functions to compute the median and standard deviation of a set of numbers. In the code below, we give an example of using these functions."
   ]
  },
  {
   "cell_type": "code",
   "execution_count": null,
   "metadata": {},
   "outputs": [],
   "source": [
    "scores = [85, 93, 88]\n",
    "average_score = numpy.average(scores)\n",
    "median_score = numpy.median(scores)\n",
    "stdev_score = numpy.std(scores)\n",
    "print(\"AVERAGE:\")\n",
    "print(average_score)\n",
    "print(\"MEDIAN:\")\n",
    "print(median_score)\n",
    "print(\"STANDARD DEVIATION:\")\n",
    "print(stdev_score)"
   ]
  },
  {
   "cell_type": "markdown",
   "metadata": {},
   "source": [
    "\n",
    "Note that we don't need to import numpy again, since we imported numpy in the previous block of code. In a more traditional programming project, we would import all needed libraries at the beginning of a file containing code.\n",
    "\n",
    "You can find partial documentation for statistic functions in the numpy library [here](https://docs.scipy.org/doc/numpy-1.13.0/reference/routines.statistics.html), but there are a lot more functions in the numpy library! You can find complete documentation by googling \"numpy documentation.\"\n",
    "\n",
    "If you'd like to learn more about programming in python, there are several free online tutorials available. You can find more using google, but here are a few: [Learn Python](https://www.learnpython.org), [Udacity](https://www.udacity.com/course/programming-foundations-with-python--ud036), [Code Academy](https://www.codecademy.com/learn/learn-python)."
   ]
  },
  {
   "cell_type": "markdown",
   "metadata": {},
   "source": [
    "## Exercises\n",
    "\n",
    "Use the numpy average function to compute the average of the numbers 45, 12, 67, 23, and 59."
   ]
  },
  {
   "cell_type": "code",
   "execution_count": null,
   "metadata": {},
   "outputs": [],
   "source": []
  },
  {
   "cell_type": "markdown",
   "metadata": {},
   "source": [
    "Use the numpy standard deviation function to compute the standard deviation of the numbers 45, 12, 67, 23, and 59."
   ]
  },
  {
   "cell_type": "code",
   "execution_count": null,
   "metadata": {},
   "outputs": [],
   "source": []
  },
  {
   "cell_type": "markdown",
   "metadata": {},
   "source": [
    "Use a numpy function to compute the variance of the numbers 834, 2378, 82, 3487, 347, 374, and 218. Hint: look at the numpy documentation to find a function to use."
   ]
  },
  {
   "cell_type": "code",
   "execution_count": null,
   "metadata": {},
   "outputs": [],
   "source": []
  },
  {
   "cell_type": "markdown",
   "metadata": {},
   "source": [
    "Write a program to compute the roots of a quadratic equation of the form $ax^2+bx+c=0$, using the quadratic formula $$ x = \\dfrac{-b\\pm \\sqrt{b^2-4ac}}{2a}.$$ Hint: you should find a square root function to use; try googling \"python square root\" to find one!"
   ]
  },
  {
   "cell_type": "code",
   "execution_count": null,
   "metadata": {},
   "outputs": [],
   "source": []
  },
  {
   "cell_type": "markdown",
   "metadata": {},
   "source": [
    "<font color=gray>Copyright (c) 2018 Melissa Lynn</font>\n",
    "<br><br>\n",
    "<font color=gray>Permission is hereby granted, free of charge, to any person obtaining a copy\n",
    "of this software and associated documentation files (the \"Software\"), to deal\n",
    "in the Software without restriction, including without limitation the rights\n",
    "to use, copy, modify, merge, publish, distribute, sublicense, and/or sell\n",
    "copies of the Software, and to permit persons to whom the Software is\n",
    "furnished to do so, subject to the following conditions:</font>\n",
    "<br><br>\n",
    "<font color=gray>The above copyright notice and this permission notice shall be included in all\n",
    "copies or substantial portions of the Software.</font>\n",
    "<br><br>\n",
    "<font color=gray>THE SOFTWARE IS PROVIDED \"AS IS\", WITHOUT WARRANTY OF ANY KIND, EXPRESS OR\n",
    "IMPLIED, INCLUDING BUT NOT LIMITED TO THE WARRANTIES OF MERCHANTABILITY,\n",
    "FITNESS FOR A PARTICULAR PURPOSE AND NONINFRINGEMENT. IN NO EVENT SHALL THE\n",
    "AUTHORS OR COPYRIGHT HOLDERS BE LIABLE FOR ANY CLAIM, DAMAGES OR OTHER\n",
    "LIABILITY, WHETHER IN AN ACTION OF CONTRACT, TORT OR OTHERWISE, ARISING FROM,\n",
    "OUT OF OR IN CONNECTION WITH THE SOFTWARE OR THE USE OR OTHER DEALINGS IN THE\n",
    "SOFTWARE.</font>"
   ]
  }
 ],
 "metadata": {
  "kernelspec": {
   "display_name": "Python 3",
   "language": "python",
   "name": "python3"
  },
  "language_info": {
   "codemirror_mode": {
    "name": "ipython",
    "version": 3
   },
   "file_extension": ".py",
   "mimetype": "text/x-python",
   "name": "python",
   "nbconvert_exporter": "python",
   "pygments_lexer": "ipython3",
   "version": "3.6.4"
  }
 },
 "nbformat": 4,
 "nbformat_minor": 2
}
